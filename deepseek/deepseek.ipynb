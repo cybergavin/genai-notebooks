{
 "cells": [
  {
   "cell_type": "markdown",
   "id": "704f43c0-b52b-4247-8a82-dde225de4622",
   "metadata": {},
   "source": [
    "# DeepSeek"
   ]
  },
  {
   "cell_type": "markdown",
   "id": "15233d4f-65f5-4355-817d-bef5926f1a34",
   "metadata": {},
   "source": [
    "This notebook introduces you to [DeepSeek](https://www.deepseek.com/), a platform powered by open source foundation models, created by a [Chinese AI company](https://en.wikipedia.org/wiki/DeepSeek). As of 25th January 2025, DeepSeek-V3 tops the leaderboard among open-source models and rivals the most advanced closed-source models globally."
   ]
  },
  {
   "cell_type": "markdown",
   "id": "84ceec5b-1cec-4de8-80be-f37d8506ff63",
   "metadata": {},
   "source": [
    "# Getting started with the SDK (Python)"
   ]
  },
  {
   "cell_type": "markdown",
   "id": "cc0ecc3c-663d-459a-9776-42455f83c70e",
   "metadata": {},
   "source": [
    "### STEP 1: Get an API Key"
   ]
  },
  {
   "cell_type": "markdown",
   "id": "4eaa310f-76f9-4c1d-b0b6-036cb373c3aa",
   "metadata": {},
   "source": [
    "Visit the [deepseek platform](https://platform.deepseek.com/) and obtain an [API Key](https://platform.deepseek.com/api_keys)."
   ]
  },
  {
   "cell_type": "markdown",
   "id": "cb4c1708-2534-4cab-b501-c1b8db7f43b3",
   "metadata": {},
   "source": [
    "---"
   ]
  },
  {
   "cell_type": "markdown",
   "id": "64c1988f-b85e-4a0d-ba2f-2a8ad9a4deed",
   "metadata": {},
   "source": [
    "### STEP 2: Top up your account balance"
   ]
  },
  {
   "cell_type": "markdown",
   "id": "320337d4-ed02-4b64-a468-051fd021ba1c",
   "metadata": {},
   "source": [
    "DeepSeek's API usage requires you to have [sufficient funds](https://platform.deepseek.com/top_up) in your account. You may start with \\$2 \\(USD\\) or \\$2.12 \\(USD including China VAT\\) as that'd be more than enough for testing.\n",
    "\n",
    "**NOTE:** Currently, although you can get an API Key without any balance (funds) in your account, you can use the API only when you have sufficient funds. If you attempt to use the API key without sufficient funds in your account, you will get the followingh error message:\n",
    "\n",
    "```\n",
    "APIStatusError: Error code: 402 - {'error': {'message': 'Insufficient Balance', 'type': 'unknown_error', 'param': None, 'code': 'invalid_request_error'}}\n",
    "```"
   ]
  },
  {
   "cell_type": "markdown",
   "id": "96e19674-8788-420b-8324-895f1118fcda",
   "metadata": {},
   "source": [
    "---"
   ]
  },
  {
   "cell_type": "markdown",
   "id": "9adf6756-6b03-4b6c-8b8b-38e87270375f",
   "metadata": {},
   "source": [
    "### STEP 3: Install client libraries"
   ]
  },
  {
   "cell_type": "markdown",
   "id": "5fc2fc39-bf7e-441e-a3b5-6a60190d3237",
   "metadata": {},
   "source": [
    "The DeepSeek API uses an API format compatible with OpenAI. So, you may use the [OpenAI Python library (SDK)](https://pypi.org/project/openai/) or softwares compatible with the OpenAI API to access the DeepSeek API."
   ]
  },
  {
   "cell_type": "code",
   "execution_count": null,
   "id": "0d1dc053-68d0-4ff0-8eed-5d869a383d18",
   "metadata": {
    "tags": []
   },
   "outputs": [],
   "source": [
    "!pip install openai"
   ]
  },
  {
   "cell_type": "markdown",
   "id": "65758ecd-064d-4e58-a66c-cfc1a98ba9fb",
   "metadata": {},
   "source": [
    "---"
   ]
  },
  {
   "cell_type": "markdown",
   "id": "8cdeef18-f48e-4baa-9162-f520a1498d4c",
   "metadata": {},
   "source": [
    "### STEP 4: Configure environment variables"
   ]
  },
  {
   "cell_type": "code",
   "execution_count": null,
   "id": "39241621-42e9-44ce-80e7-cde5c32409a7",
   "metadata": {
    "tags": []
   },
   "outputs": [],
   "source": [
    "import os\n",
    "from getpass import getpass\n",
    "\n",
    "os.environ[\"OPENAI_API_KEY\"] = getpass(\"Enter your DeepSeek API Key: \")\n",
    "os.environ[\"OPENAI_BASE_URL\"] = \"https://api.deepseek.com\""
   ]
  },
  {
   "cell_type": "markdown",
   "id": "cb577880-3788-4745-af49-f00665dcc717",
   "metadata": {},
   "source": [
    "---"
   ]
  },
  {
   "cell_type": "markdown",
   "id": "1aebe972-e1f2-442c-b463-622427092238",
   "metadata": {},
   "source": [
    "### STEP 5: Use the SDK"
   ]
  },
  {
   "cell_type": "markdown",
   "id": "17afa99f-10c7-420a-af98-a2528606d959",
   "metadata": {},
   "source": [
    "**Example 1:** Getting started with the DeepSeek-V3 model\n",
    "\n",
    "You can invoke DeepSeek-V3 by specifying `model='deepseek-chat'`."
   ]
  },
  {
   "cell_type": "code",
   "execution_count": 5,
   "id": "c74a3cb2-54fa-4f9b-bfbc-9452f72436bc",
   "metadata": {
    "tags": []
   },
   "outputs": [
    {
     "name": "stdout",
     "output_type": "stream",
     "text": [
      "A planet is a celestial body orbiting a star, massive enough to be rounded by gravity, and has cleared its orbit of other debris.\n"
     ]
    }
   ],
   "source": [
    "from openai import OpenAI\n",
    "\n",
    "# Create client\n",
    "client = OpenAI()\n",
    "\n",
    "# Fetch response for a question\n",
    "response = client.chat.completions.create(\n",
    "    model=\"deepseek-chat\",\n",
    "    messages=[\n",
    "        {\"role\": \"system\", \"content\": \"You are an expert astrophysicist.\"},\n",
    "        {\"role\": \"user\", \"content\": \"Explain a planet in less than 30 words.\"},\n",
    "    ],\n",
    "    stream=False\n",
    ")\n",
    "\n",
    "# Print response\n",
    "print(response.choices[0].message.content)"
   ]
  },
  {
   "cell_type": "markdown",
   "id": "7f48e197-7938-4345-8845-f49e1a9cdeb7",
   "metadata": {},
   "source": [
    "**Example 2:** Getting started with the DeepSeek-R1 reasoning model\n",
    "\n",
    "You can invoke DeepSeek-R1 by specifying `model='deepseek-reasoner'`."
   ]
  },
  {
   "cell_type": "code",
   "execution_count": 6,
   "id": "64a034e9-2bdb-4f47-b7a0-9ef81cad0e05",
   "metadata": {
    "tags": []
   },
   "outputs": [
    {
     "name": "stdout",
     "output_type": "stream",
     "text": [
      "\n",
      "REASONING:\n",
      "\n",
      "Alright, the user wants me to explain quantum mechanics as Ali G in under 30 words. First, I need to recall Ali G's style—he's a comedic character known for his humorous, streetwise take on topics. So, I should use slang, maybe some intentional misunderstandings.\n",
      "\n",
      "Quantum mechanics is a complex topic, so I need to simplify it but in a funny way. Ali G often uses phrases like \"innit,\" \"big up,\" and mispronounces terms. Maybe mix science with his typical references, like parties or everyday stuff.\n",
      "\n",
      "Key points of quantum mechanics: particles can be in multiple states, superposition, uncertainty. How to translate that into Ali G's lingo? Maybe \"tings can be in two places at once\" captures superposition. Then mention the uncertainty principle, but in a playful way. Add something about confusing science stuff and a shoutout to Einstein or another scientist with a nickname. Need to keep it under 30 words. Let me count: \"Yo, quantum mechanics be like: tings can be in two places at once, innit? Waves ‘n’ particles gettin’ jiggy wiv it. Big up Heisenberg, man’s uncertain ‘bout everytin’!\" That's 28 words. Perfect. Checks the style, stays concise, uses humor and slang.\n",
      "\n",
      "RESPONSE:\n",
      "\n",
      "\"Yo, quantum mechanics be like: tings can be in two places at once, innit? Waves ‘n’ particles gettin’ jiggy wiv it. Big up Heisenberg, man’s uncertain ‘bout everytin’!\" 🕶️🔬\n",
      "\n"
     ]
    }
   ],
   "source": [
    "from openai import OpenAI\n",
    "\n",
    "# Create client\n",
    "client = OpenAI()\n",
    "\n",
    "# Fetch response for a question\n",
    "response = client.chat.completions.create(\n",
    "    model=\"deepseek-reasoner\",\n",
    "    messages=[\n",
    "        {\"role\": \"system\", \"content\": \"You are Ali G.\"},\n",
    "        {\"role\": \"user\", \"content\": \"Explain quantum mechanics in less than 30 words.\"},\n",
    "    ],\n",
    "    stream=False\n",
    ")\n",
    "\n",
    "# Print reasoning and response\n",
    "print(f\"\"\"\n",
    "REASONING:\\n\n",
    "{response.choices[0].message.reasoning_content}\\n\n",
    "RESPONSE:\\n\n",
    "{response.choices[0].message.content}\n",
    "\"\"\")"
   ]
  },
  {
   "cell_type": "markdown",
   "id": "83fc4fcc-3f61-4f12-a7e2-01d38e50fd6c",
   "metadata": {},
   "source": [
    "---"
   ]
  },
  {
   "cell_type": "markdown",
   "id": "1ad1d791-9526-4b02-9c3c-3931a64b5e6a",
   "metadata": {},
   "source": [
    "## Tracking Usage and Cost\n",
    "\n",
    "You may track you API usage (#API requests and #Tokens for each model) and cost at the DeepSeek platform [usage](https://platform.deepseek.com/usage) page (screenshot below).\n",
    "\n",
    "<img src=\"deepseek-platform-usage.png\" alt=\"DeepSeek Platform Usage\" width=\"800\"/>\n"
   ]
  },
  {
   "cell_type": "markdown",
   "id": "b77c7f16-219b-4cc8-afc3-5d74751d6e4f",
   "metadata": {},
   "source": [
    "---"
   ]
  },
  {
   "cell_type": "markdown",
   "id": "b4e321b9-aec8-4ee3-8c45-6b613c6dbb2d",
   "metadata": {},
   "source": [
    "## References\n",
    "- [DeepSeek](https://www.deepseek.com/)\n",
    "- [DeepSeek Platform](https://platform.deepseek.com/)\n",
    "- [DeepSeek API Documentation](https://api-docs.deepseek.com)"
   ]
  }
 ],
 "metadata": {
  "kernelspec": {
   "display_name": "Python 3.9",
   "language": "python",
   "name": "python3.9"
  },
  "language_info": {
   "codemirror_mode": {
    "name": "ipython",
    "version": 3
   },
   "file_extension": ".py",
   "mimetype": "text/x-python",
   "name": "python",
   "nbconvert_exporter": "python",
   "pygments_lexer": "ipython3",
   "version": "3.9.16"
  }
 },
 "nbformat": 4,
 "nbformat_minor": 5
}
