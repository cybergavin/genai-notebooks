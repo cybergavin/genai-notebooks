{
 "cells": [
  {
   "cell_type": "markdown",
   "id": "704f43c0-b52b-4247-8a82-dde225de4622",
   "metadata": {},
   "source": [
    "# DeepSeek"
   ]
  },
  {
   "cell_type": "markdown",
   "id": "15233d4f-65f5-4355-817d-bef5926f1a34",
   "metadata": {},
   "source": [
    "This notebook introduces you to [DeepSeek](https://www.deepseek.com/), a platform powered by open source foundation models, created by a [Chinese AI company](https://en.wikipedia.org/wiki/DeepSeek). As of 25th January 2024, DeepSeek-V3 tops the leaderboard among open-source models and rivals the most advanced closed-source models globally."
   ]
  },
  {
   "cell_type": "markdown",
   "id": "84ceec5b-1cec-4de8-80be-f37d8506ff63",
   "metadata": {},
   "source": [
    "# Getting started with the SDK (Python)"
   ]
  },
  {
   "cell_type": "markdown",
   "id": "cc0ecc3c-663d-459a-9776-42455f83c70e",
   "metadata": {},
   "source": [
    "### STEP 1: Get an API Key"
   ]
  },
  {
   "cell_type": "markdown",
   "id": "4eaa310f-76f9-4c1d-b0b6-036cb373c3aa",
   "metadata": {},
   "source": [
    "Visit the [deepseek platform](https://platform.deepseek.com/) and obtain an [API Key](https://platform.deepseek.com/api_keys)."
   ]
  },
  {
   "cell_type": "markdown",
   "id": "64c1988f-b85e-4a0d-ba2f-2a8ad9a4deed",
   "metadata": {},
   "source": [
    "### STEP 2: Top up your account balance"
   ]
  },
  {
   "cell_type": "markdown",
   "id": "320337d4-ed02-4b64-a468-051fd021ba1c",
   "metadata": {},
   "source": [
    "DeepSeek's API usage requires you to have [sufficient funds](https://platform.deepseek.com/top_up) in your account. You may start with \\$2 \\(USD\\) or \\$2.12 \\(USD including China VAT\\) as that'd be more than enough for testing.\n",
    "\n",
    "**NOTE:** Currently, although you can get an API Key without any balance (funds) in your account, you can use the API only when you have sufficient funds. If you attempt to use the API key without sufficient funds in your account, you will get the followingh error message:\n",
    "\n",
    "```\n",
    "APIStatusError: Error code: 402 - {'error': {'message': 'Insufficient Balance', 'type': 'unknown_error', 'param': None, 'code': 'invalid_request_error'}}\n",
    "```"
   ]
  },
  {
   "cell_type": "markdown",
   "id": "9adf6756-6b03-4b6c-8b8b-38e87270375f",
   "metadata": {},
   "source": [
    "### STEP 3: Install client libraries"
   ]
  },
  {
   "cell_type": "markdown",
   "id": "5fc2fc39-bf7e-441e-a3b5-6a60190d3237",
   "metadata": {},
   "source": [
    "The DeepSeek API uses an API format compatible with OpenAI. So, you may use the [OpenAI Python library (SDK)](https://pypi.org/project/openai/) or softwares compatible with the OpenAI API to access the DeepSeek API."
   ]
  },
  {
   "cell_type": "code",
   "execution_count": null,
   "id": "0d1dc053-68d0-4ff0-8eed-5d869a383d18",
   "metadata": {
    "tags": []
   },
   "outputs": [],
   "source": [
    "!pip install openai"
   ]
  },
  {
   "cell_type": "markdown",
   "id": "8cdeef18-f48e-4baa-9162-f520a1498d4c",
   "metadata": {},
   "source": [
    "### STEP 4: Set environment variables"
   ]
  },
  {
   "cell_type": "code",
   "execution_count": null,
   "id": "fc72c504-9cae-4300-9e29-4ad833aafa27",
   "metadata": {
    "tags": []
   },
   "outputs": [],
   "source": [
    "!pip install keyring"
   ]
  },
  {
   "cell_type": "code",
   "execution_count": null,
   "id": "39241621-42e9-44ce-80e7-cde5c32409a7",
   "metadata": {
    "tags": []
   },
   "outputs": [],
   "source": [
    "import os\n",
    "api_key = input(\"Enter your API key DeepSeek: \")\n",
    "os.environ[\"OPENAI_API_KEY\"] = api_key"
   ]
  },
  {
   "cell_type": "markdown",
   "id": "1aebe972-e1f2-442c-b463-622427092238",
   "metadata": {},
   "source": [
    "### STEP 5: Use the SDK"
   ]
  },
  {
   "cell_type": "markdown",
   "id": "17afa99f-10c7-420a-af98-a2528606d959",
   "metadata": {},
   "source": [
    "**Example 1:** Getting started with the DeepSeek-V3 model\n",
    "\n",
    "You can invoke DeepSeek-V3 by specifying `model='deepseek-chat'`."
   ]
  },
  {
   "cell_type": "code",
   "execution_count": null,
   "id": "c74a3cb2-54fa-4f9b-bfbc-9452f72436bc",
   "metadata": {
    "tags": []
   },
   "outputs": [],
   "source": [
    "from openai import OpenAI\n",
    "\n",
    "client = OpenAI(api_key=os.environ[\"OPENAI_API_KEY\"], base_url=\"https://api.deepseek.com\")\n",
    "\n",
    "response = client.chat.completions.create(\n",
    "    model=\"deepseek-chat\",\n",
    "    messages=[\n",
    "        {\"role\": \"system\", \"content\": \"You are an expert astrophysicist.\"},\n",
    "        {\"role\": \"user\", \"content\": \"Explain a planet in less than 30 words.\"},\n",
    "    ],\n",
    "    stream=False\n",
    ")\n",
    "\n",
    "print(response.choices[0].message.content)"
   ]
  },
  {
   "cell_type": "markdown",
   "id": "497d4be2-c6be-4e3a-a607-bca024183118",
   "metadata": {},
   "source": [
    "---"
   ]
  },
  {
   "cell_type": "markdown",
   "id": "7f48e197-7938-4345-8845-f49e1a9cdeb7",
   "metadata": {},
   "source": [
    "**Example 2:** Getting started with the DeepSeek-R1 reasoning model\n",
    "\n",
    "You can invoke DeepSeek-R1 by specifying `model='deepseek-reasoner'`."
   ]
  },
  {
   "cell_type": "code",
   "execution_count": null,
   "id": "64a034e9-2bdb-4f47-b7a0-9ef81cad0e05",
   "metadata": {
    "tags": []
   },
   "outputs": [],
   "source": [
    "from openai import OpenAI\n",
    "\n",
    "client = OpenAI(api_key=os.environ[\"OPENAI_API_KEY\"], base_url=\"https://api.deepseek.com\")\n",
    "\n",
    "response = client.chat.completions.create(\n",
    "    model=\"deepseek-reasoner\",\n",
    "    messages=[\n",
    "        {\"role\": \"system\", \"content\": \"You are an uneducated hilly billy\"},\n",
    "        {\"role\": \"user\", \"content\": \"Explain quantum mechanics in less than 30 words.\"},\n",
    "    ],\n",
    "    stream=False\n",
    ")\n",
    "\n",
    "print(f\"\"\"\n",
    "REASONING:\\n\n",
    "{response.choices[0].message.reasoning_content}\\n\n",
    "ANSWER:\\n\n",
    "{response.choices[0].message.content}\n",
    "\"\"\")\n"
   ]
  },
  {
   "cell_type": "markdown",
   "id": "83fc4fcc-3f61-4f12-a7e2-01d38e50fd6c",
   "metadata": {},
   "source": [
    "---"
   ]
  },
  {
   "cell_type": "markdown",
   "id": "1ad1d791-9526-4b02-9c3c-3931a64b5e6a",
   "metadata": {},
   "source": [
    "## Tracking Usage\n",
    "\n",
    "You may track you API usage (#API requests and #Tokens for each model) at the DeepSeek platform [usage](https://platform.deepseek.com/usage) page (screenshot below).\n",
    "\n",
    "<img src=\"deepseek-platform-usage.png\" alt=\"DeepSeek Platform Usage\" width=\"800\"/>\n"
   ]
  },
  {
   "cell_type": "markdown",
   "id": "b4e321b9-aec8-4ee3-8c45-6b613c6dbb2d",
   "metadata": {},
   "source": [
    "## References\n",
    "- [DeepSeek](https://www.deepseek.com/)\n",
    "- [DeepSeek Platform](https://platform.deepseek.com/)\n",
    "- [DeepSeek API Documentation](https://api-docs.deepseek.com)"
   ]
  }
 ],
 "metadata": {
  "kernelspec": {
   "display_name": "Python 3.9",
   "language": "python",
   "name": "python3.9"
  },
  "language_info": {
   "codemirror_mode": {
    "name": "ipython",
    "version": 3
   },
   "file_extension": ".py",
   "mimetype": "text/x-python",
   "name": "python",
   "nbconvert_exporter": "python",
   "pygments_lexer": "ipython3",
   "version": "3.9.16"
  }
 },
 "nbformat": 4,
 "nbformat_minor": 5
}
