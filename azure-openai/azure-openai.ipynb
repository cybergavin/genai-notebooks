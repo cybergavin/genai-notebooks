{
 "cells": [
  {
   "cell_type": "markdown",
   "id": "704f43c0-b52b-4247-8a82-dde225de4622",
   "metadata": {},
   "source": [
    "# Azure OpenAI"
   ]
  },
  {
   "cell_type": "markdown",
   "id": "15233d4f-65f5-4355-817d-bef5926f1a34",
   "metadata": {},
   "source": [
    "Microsoft's [Azure OpenAI Service](https://learn.microsoft.com/en-us/azure/ai-services/openai/overview?context=%2Fazure%2Fai-studio%2Fcontext%2Fcontext) provides REST API access to OpenAI's powerful language models including o1, o1-mini, GPT-4o, GPT-4o mini, GPT-4 Turbo with Vision, GPT-4, GPT-3.5-Turbo, and Embeddings model series."
   ]
  },
  {
   "cell_type": "markdown",
   "id": "84ceec5b-1cec-4de8-80be-f37d8506ff63",
   "metadata": {},
   "source": [
    "# Getting started with the SDK (Python)"
   ]
  },
  {
   "cell_type": "markdown",
   "id": "cc0ecc3c-663d-459a-9776-42455f83c70e",
   "metadata": {},
   "source": [
    "### STEP 1: Get started with Azure OpenAI Service"
   ]
  },
  {
   "cell_type": "markdown",
   "id": "4eaa310f-76f9-4c1d-b0b6-036cb373c3aa",
   "metadata": {},
   "source": [
    "To get access to the Azure OpenAI service, you must have an Azure subscription, create an Azure OpenAI resource and deploy a model.\n",
    "\n",
    "Follow these **[instructions](https://learn.microsoft.com/en-us/azure/ai-services/openai/how-to/create-resource?pivots=web-portal)** to prepare for accessing the Azure OpenAI models via the SDK (Python)."
   ]
  },
  {
   "cell_type": "markdown",
   "id": "cb4c1708-2534-4cab-b501-c1b8db7f43b3",
   "metadata": {},
   "source": [
    "---"
   ]
  },
  {
   "cell_type": "markdown",
   "id": "9adf6756-6b03-4b6c-8b8b-38e87270375f",
   "metadata": {},
   "source": [
    "### STEP 2: Install client libraries"
   ]
  },
  {
   "cell_type": "markdown",
   "id": "b2fd0d41-b084-4ed2-8d6a-5049fcfdff93",
   "metadata": {},
   "source": [
    "Azure OpenAI uses the [OpenAI python API library](https://github.com/openai/openai-python) with some changes between how you interact with models on OpenAI and Azure OpenAI."
   ]
  },
  {
   "cell_type": "code",
   "execution_count": null,
   "id": "0d1dc053-68d0-4ff0-8eed-5d869a383d18",
   "metadata": {
    "tags": []
   },
   "outputs": [],
   "source": [
    "!pip install openai"
   ]
  },
  {
   "cell_type": "markdown",
   "id": "65758ecd-064d-4e58-a66c-cfc1a98ba9fb",
   "metadata": {},
   "source": [
    "---"
   ]
  },
  {
   "cell_type": "markdown",
   "id": "8cdeef18-f48e-4baa-9162-f520a1498d4c",
   "metadata": {},
   "source": [
    "### STEP 3: Configure environment variables"
   ]
  },
  {
   "cell_type": "code",
   "execution_count": null,
   "id": "39241621-42e9-44ce-80e7-cde5c32409a7",
   "metadata": {
    "tags": []
   },
   "outputs": [],
   "source": [
    "import os\n",
    "from getpass import getpass\n",
    "\n",
    "os.environ[\"AZURE_OPENAI_API_KEY\"] = getpass(\"Enter your Azure OpenAI API Key: \")\n",
    "os.environ[\"AZURE_OPENAI_ENDPOINT\"] = getpass(\"Enter your Azure OpenAI Endpoint: \")\n",
    "os.environ[\"OPENAI_API_VERSION\"] = \"2024-12-01-preview\""
   ]
  },
  {
   "cell_type": "markdown",
   "id": "cb577880-3788-4745-af49-f00665dcc717",
   "metadata": {},
   "source": [
    "---"
   ]
  },
  {
   "cell_type": "markdown",
   "id": "1aebe972-e1f2-442c-b463-622427092238",
   "metadata": {},
   "source": [
    "### STEP 4: Use the SDK"
   ]
  },
  {
   "cell_type": "markdown",
   "id": "17afa99f-10c7-420a-af98-a2528606d959",
   "metadata": {},
   "source": [
    "**Example 1:** Getting started with the gpt-4o-mini model"
   ]
  },
  {
   "cell_type": "markdown",
   "id": "f84dc3a0-40ef-4245-b1be-a24f03f2a8c4",
   "metadata": {},
   "source": [
    "**NOTE:** When using the OpenAI Python API libary for the **Azure** OpenAI Service, you must pass the model **deployment name** and not the model name (as done with the OpenAI service)."
   ]
  },
  {
   "cell_type": "code",
   "execution_count": 2,
   "id": "c74a3cb2-54fa-4f9b-bfbc-9452f72436bc",
   "metadata": {
    "tags": []
   },
   "outputs": [
    {
     "name": "stdout",
     "output_type": "stream",
     "text": [
      "A planet is a celestial body that orbits a star, is massive enough for gravity to shape it into a round form, and has cleared its orbital path.\n"
     ]
    }
   ],
   "source": [
    "from openai import AzureOpenAI\n",
    "\n",
    "# Create client\n",
    "client = AzureOpenAI()\n",
    "\n",
    "# Fetch response for a question\n",
    "response = client.chat.completions.create(\n",
    "    model=\"gpt-4o-mini\", # This is the model deployment name. In this case, it's the same as the model name.\n",
    "    messages=[\n",
    "        {\"role\": \"system\", \"content\": \"You are an expert astrophysicist.\"},\n",
    "        {\"role\": \"user\", \"content\": \"Explain a planet in less than 30 words.\"},\n",
    "    ],\n",
    "    stream=False\n",
    ")\n",
    "\n",
    "# Print response\n",
    "print(response.choices[0].message.content)"
   ]
  },
  {
   "cell_type": "markdown",
   "id": "83fc4fcc-3f61-4f12-a7e2-01d38e50fd6c",
   "metadata": {},
   "source": [
    "---"
   ]
  },
  {
   "cell_type": "markdown",
   "id": "1ad1d791-9526-4b02-9c3c-3931a64b5e6a",
   "metadata": {},
   "source": [
    "## Tracking Usage\n",
    "\n",
    "You may track you API usage (#API requests and #Tokens for each model) on the model deployment's **Metrics** tab (screenshot below).\n",
    "\n",
    "<img src=\"AzureOpenAI-gpt-4o-mini.png\" alt=\"Azure OpenAI GPT-4o-mini\" width=\"800\"/>\n"
   ]
  },
  {
   "cell_type": "markdown",
   "id": "b77c7f16-219b-4cc8-afc3-5d74751d6e4f",
   "metadata": {},
   "source": [
    "---"
   ]
  },
  {
   "cell_type": "markdown",
   "id": "b4e321b9-aec8-4ee3-8c45-6b613c6dbb2d",
   "metadata": {},
   "source": [
    "## References\n",
    "- [Azure OpenAI Service](https://azure.microsoft.com/en-us/products/ai-services/openai-service/)"
   ]
  }
 ],
 "metadata": {
  "kernelspec": {
   "display_name": "Python 3.9",
   "language": "python",
   "name": "python3.9"
  },
  "language_info": {
   "codemirror_mode": {
    "name": "ipython",
    "version": 3
   },
   "file_extension": ".py",
   "mimetype": "text/x-python",
   "name": "python",
   "nbconvert_exporter": "python",
   "pygments_lexer": "ipython3",
   "version": "3.9.16"
  }
 },
 "nbformat": 4,
 "nbformat_minor": 5
}
